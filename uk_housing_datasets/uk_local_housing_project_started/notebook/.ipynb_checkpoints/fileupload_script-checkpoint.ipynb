{
 "cells": [
  {
   "cell_type": "code",
   "execution_count": null,
   "id": "87c3e483",
   "metadata": {},
   "outputs": [],
   "source": [
    "import pandas as pd\n",
    "\n",
    "\n",
    "class FileUpload:\n",
    "    def __init__(self):\n",
    "        pass\n",
    "\n",
    "    def stage_data(self, file_path):    \n",
    "        try:\n",
    "            # Load the Excel file and skip the first 5 rows\n",
    "            data_file = pd.read_excel(file_path, sheet_name='UK_Starts', skiprows=5, engine='openpyxl')\n",
    "            print(\"File loaded successfully!\")\n",
    "            \n",
    "            # Show data types and first few rows\n",
    "            print(f\"\\nData types of columns:\\n{data_file.dtypes}\")\n",
    "            print(f\"\\nFirst few rows of the DataFrame:\\n{data_file.head()}\")\n",
    "            \n",
    "            return data_file\n",
    "        \n",
    "        except FileNotFoundError:\n",
    "            print(f\"Error: The file at {file_path} was not found.\")\n",
    "            return None\n",
    "        except ValueError as ve:\n",
    "            print(f\"Error: {ve}. Please check the sheet name or content.\")\n",
    "            return None\n",
    "        except Exception as e:\n",
    "            print(f\"Operation Failed: {e}\")\n",
    "            return None"
   ]
  }
 ],
 "metadata": {
  "kernelspec": {
   "display_name": "Python 3 (ipykernel)",
   "language": "python",
   "name": "python3"
  },
  "language_info": {
   "codemirror_mode": {
    "name": "ipython",
    "version": 3
   },
   "file_extension": ".py",
   "mimetype": "text/x-python",
   "name": "python",
   "nbconvert_exporter": "python",
   "pygments_lexer": "ipython3",
   "version": "3.11.4"
  }
 },
 "nbformat": 4,
 "nbformat_minor": 5
}
