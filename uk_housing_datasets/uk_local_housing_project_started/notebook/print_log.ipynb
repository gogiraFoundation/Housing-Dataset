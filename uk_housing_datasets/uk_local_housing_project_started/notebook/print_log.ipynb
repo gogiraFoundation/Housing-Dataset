{
 "cells": [
  {
   "cell_type": "code",
   "execution_count": 1,
   "id": "e00a4df1",
   "metadata": {},
   "outputs": [],
   "source": [
    "import os\n",
    "\n",
    "def print_log(message):\n",
    "    \"\"\"\n",
    "    Centralized function to handle all print statements.\n",
    "    Logs messages to a file and prints them to the console.\n",
    "    \"\"\"\n",
    "    # Ensure the message is a string before logging\n",
    "    message_str = str(message)\n",
    "\n",
    "    # Print the message to the console\n",
    "    print(message_str)\n",
    "    \n",
    "    # Log the message to a file\n",
    "    #with open(log_file, \"a\") as f:\n",
    "     #   f.write(message_str + '\\n')"
   ]
  },
  {
   "cell_type": "code",
   "execution_count": null,
   "id": "38bdbe44",
   "metadata": {},
   "outputs": [],
   "source": []
  }
 ],
 "metadata": {
  "kernelspec": {
   "display_name": "Python 3 (ipykernel)",
   "language": "python",
   "name": "python3"
  },
  "language_info": {
   "codemirror_mode": {
    "name": "ipython",
    "version": 3
   },
   "file_extension": ".py",
   "mimetype": "text/x-python",
   "name": "python",
   "nbconvert_exporter": "python",
   "pygments_lexer": "ipython3",
   "version": "3.11.4"
  }
 },
 "nbformat": 4,
 "nbformat_minor": 5
}
